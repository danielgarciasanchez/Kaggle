{
 "cells": [
  {
   "cell_type": "markdown",
   "metadata": {},
   "source": [
    "### BLACKJACK ( Working on it )"
   ]
  },
  {
   "cell_type": "markdown",
   "metadata": {},
   "source": [
    "#### RULES"
   ]
  },
  {
   "cell_type": "markdown",
   "metadata": {},
   "source": [
    "We'll use a slightly simplified version of blackjack (aka twenty-one). In this version, there is one player (who you'll control) and a dealer. Play proceeds as follows:\n",
    "\n",
    "The player is dealt two face-up cards. The dealer is dealt one face-up card.\n",
    "\n",
    "The player may ask to be dealt another card ('hit') as many times as they wish. If the sum of their cards exceeds 21, they lose the round immediately.\n",
    "\n",
    "The dealer then deals additional cards to himself until either:\n",
    "\n",
    "The sum of the dealer's cards exceeds 21, in which case the player wins the round, or\n",
    "The sum of the dealer's cards is greater than or equal to 17. If the player's total is greater than the dealer's, the player wins. Otherwise, the dealer wins (even in case of a tie).\n",
    "\n",
    "When calculating the sum of cards, Jack, Queen, and King count for 10. Aces can count as 1 or 11. (When referring to a player's \"total\" above, we mean the largest total that can be made without exceeding 21. So A+8 = 19, A+8+8 = 17.)"
   ]
  },
  {
   "cell_type": "code",
   "execution_count": 7,
   "metadata": {},
   "outputs": [],
   "source": [
    "#Initiate counter ( only to be run the first game)\n",
    "\n",
    "dealer_wins = []\n",
    "player_wins = []"
   ]
  },
  {
   "cell_type": "markdown",
   "metadata": {},
   "source": [
    "#### BASIC STRATETGY"
   ]
  },
  {
   "cell_type": "markdown",
   "metadata": {},
   "source": [
    "##### BUILD THE DECK"
   ]
  },
  {
   "cell_type": "code",
   "execution_count": 8,
   "metadata": {},
   "outputs": [
    {
     "name": "stdout",
     "output_type": "stream",
     "text": [
      "13 of Diamonds\n",
      "10 of Clubs\n",
      "13 of Spades\n",
      "11 of Diamonds\n",
      "3 of Hearts\n",
      "1 of Hearts\n",
      "9 of Diamonds\n",
      "2 of Hearts\n",
      "8 of Diamonds\n",
      "9 of Hearts\n",
      "looks like works!\n"
     ]
    }
   ],
   "source": [
    "#modules\n",
    "\n",
    "import itertools, random\n",
    "\n",
    "#deck\n",
    "\n",
    "deck = list(itertools.product(range(1,14), ['Spades','Hearts','Diamonds','Clubs'])) # I'll deal with values later\n",
    "\n",
    "#shuffle cards\n",
    "\n",
    "random.shuffle(deck)\n",
    "\n",
    "#check that works:\n",
    "\n",
    "for i in range(10):\n",
    "    print(deck[i][0],\"of\",deck[i][1])\n",
    "  \n",
    "print(\"looks like works!\")"
   ]
  },
  {
   "cell_type": "markdown",
   "metadata": {},
   "source": [
    "##### BUILD THE FIRST PLAYERS' HAND ( 2 CARDS, Nº ACES AND TOTAL VALUE )"
   ]
  },
  {
   "cell_type": "code",
   "execution_count": 9,
   "metadata": {},
   "outputs": [
    {
     "name": "stdout",
     "output_type": "stream",
     "text": [
      "First card of the player: 1 of Spades\n",
      "Accumulated value of the hand: 0\n",
      "Second card of the player: 10 of Diamonds\n",
      "Value of the first round: 21\n",
      "Number of aces: 1\n"
     ]
    }
   ],
   "source": [
    "#player's hand (ph)\n",
    "\n",
    "value_cards = 0 # Initial value of the hand\n",
    "value_first_round = 0 # Final value of the hand\n",
    "aces = 0 # Initial number of aces\n",
    "\n",
    "# Player pick a FIRST random card ( * think later if he should take the first card from the top)\n",
    "\n",
    "first_card = random.choice(deck)\n",
    "\n",
    "# Assigning values to the 1st card. In any case it will stop with the first ace so I will save it in a different counter for later.\n",
    "\n",
    "if first_card[0] == 1: \n",
    "    aces += 1\n",
    "elif first_card[0] >= 10:\n",
    "    value_cards += 10\n",
    "else:\n",
    "    value_cards += first_card[0]\n",
    "\n",
    "#Print the card ( just to check everything make sense )\n",
    "\n",
    "print('First card of the player: ' + str(first_card[0]) + ' of ' + str(first_card[1]))\n",
    "print('Accumulated value of the hand: ' + str(value_cards))\n",
    "\n",
    "# Removing this card from the deck\n",
    "\n",
    "for card in deck:              \n",
    "    if card == first_card:\n",
    "        deck.remove(card)\n",
    "        \n",
    "# Player pick a SECOND random card ( repeate previous proces)\n",
    "\n",
    "second_card = random.choice(deck)\n",
    "if second_card[0] == 1: \n",
    "    aces += 1\n",
    "elif second_card[0] >= 10:\n",
    "    value_cards += 10\n",
    "else:\n",
    "    value_cards += second_card[0]\n",
    "print('Second card of the player: ' +str(second_card[0]) + ' of ' + str(second_card[1]))\n",
    "\n",
    "for card in deck:              \n",
    "    if card == second_card:\n",
    "        deck.remove(card)\n",
    "\n",
    "# Calculate de value of the hand\n",
    "\n",
    "if aces == 2:\n",
    "    value_first_round = 13\n",
    "if value_cards + (aces * 11) <= 21:\n",
    "    value_first_round = value_cards + (aces * 11)\n",
    "else:\n",
    "    value_first_round = value_cards + aces\n",
    "    \n",
    "print('Value of the first round: '+str(value_first_round))\n",
    "print('Number of aces: ' +str(aces))"
   ]
  },
  {
   "cell_type": "markdown",
   "metadata": {},
   "source": [
    "##### INDICATE WHEN TO STOP ( PLAYER'S STRATEGY )"
   ]
  },
  {
   "cell_type": "code",
   "execution_count": 10,
   "metadata": {},
   "outputs": [],
   "source": [
    "#Initiate final value\n",
    "final_value = value_first_round\n",
    "\n",
    "# The strategy will be stopping when I reach 18\n",
    "\n",
    "# Set condition : if current hand < 19 then I ask for other card\n",
    "while final_value < 19:\n",
    "    additional_card = random.choice(deck)\n",
    "    \n",
    "    # Classication and value of the new card\n",
    "    if additional_card[0] == 1: \n",
    "        aces += 1\n",
    "    elif additional_card[0] >= 10:\n",
    "        value_cards += 10\n",
    "    else:\n",
    "        value_cards += additional_card[0]\n",
    "    \n",
    "    # Remove card from the deck:\n",
    "    \n",
    "    for card in deck:              \n",
    "        if card == second_card:\n",
    "            deck.remove(card)\n",
    "            \n",
    "    # Calculation the value of the hand after the last card depending on the number of aces:\n",
    "    \n",
    "    if aces >=1:\n",
    "        if (value_cards + 11 + (aces-1)) <= 21:\n",
    "            final_value = value_cards + 11 + (aces-1)\n",
    "        else:\n",
    "            final_value = value_cards + aces\n",
    "    else:\n",
    "        final_value = value_cards\n",
    "        \n",
    "    # Printing results to check that works\n",
    "    \n",
    "    print('Additional card of the player: ' +str(additional_card[0]) + ' of ' + str(additional_card[1]))\n",
    "    print('Accumulated value of this round: '+str(final_value))\n",
    "    print('Accumulated value of this round not counting aces: '+str(value_cards))\n",
    "    print('Number of accumulated aces: ' +str(aces))"
   ]
  },
  {
   "cell_type": "markdown",
   "metadata": {},
   "source": [
    "##### BUILD THE DEALERS' HAND"
   ]
  },
  {
   "cell_type": "code",
   "execution_count": 11,
   "metadata": {},
   "outputs": [
    {
     "name": "stdout",
     "output_type": "stream",
     "text": [
      "Additional card of the player: 7 of Spades\n",
      "Accumulated value of this round: 17\n",
      "Accumulated value of this round not counting aces: 7\n",
      "Number of accumulated aces: 0\n",
      "Additional card of the player: 5 of Clubs\n",
      "Accumulated value of this round: 12\n",
      "Accumulated value of this round not counting aces: 12\n",
      "Number of accumulated aces: 0\n",
      "Additional card of the player: 12 of Diamonds\n",
      "Accumulated value of this round: 22\n",
      "Accumulated value of this round not counting aces: 22\n",
      "Number of accumulated aces: 0\n"
     ]
    }
   ],
   "source": [
    "final_value_dealer = 0\n",
    "value_cards_dealer = 0\n",
    "aces_dealer = 0\n",
    "\n",
    "while final_value_dealer < 19 or final_value_dealer < value_first_round and value_first_round <21:\n",
    "    \n",
    "    #Ask for other card:\n",
    "    additional_card = random.choice(deck)\n",
    "    \n",
    "    #Remove card from the deck:\n",
    "    \n",
    "    for card in deck:              \n",
    "        if card == second_card:\n",
    "            deck.remove(card)    \n",
    "    \n",
    "    # Classication and value of the new card\n",
    "    if additional_card[0] == 1: \n",
    "        aces_dealer += 1\n",
    "    elif additional_card[0] >= 10:\n",
    "        value_cards_dealer += 10\n",
    "    else:\n",
    "        value_cards_dealer += additional_card[0]\n",
    "\n",
    "    # Calculation the value of the hand after the last card depending on the number of aces:\n",
    "    \n",
    "    if aces >=1:\n",
    "        if (value_cards_dealer + 11 + (aces_dealer -1)) <= 21:\n",
    "            final_value_dealer = value_cards_dealer + 11 + (aces_dealer -1)\n",
    "        else:\n",
    "            final_value_dealer = value_cards_dealer + aces_dealer\n",
    "    else:\n",
    "        final_value_dealer = value_cards_dealer\n",
    "        \n",
    "    # Printing results to check that works\n",
    "    \n",
    "    print('Additional card of the player: ' +str(additional_card[0]) + ' of ' + str(additional_card[1]))\n",
    "    print('Accumulated value of this round: '+str(final_value_dealer))\n",
    "    print('Accumulated value of this round not counting aces: '+str(value_cards_dealer))\n",
    "    print('Number of accumulated aces: ' +str(aces_dealer))"
   ]
  },
  {
   "cell_type": "markdown",
   "metadata": {},
   "source": [
    "##### COMPARE THE 2 HANDS TO CHECK A WINNER"
   ]
  },
  {
   "cell_type": "code",
   "execution_count": 13,
   "metadata": {},
   "outputs": [
    {
     "name": "stdout",
     "output_type": "stream",
     "text": [
      "Hands won by the player: 1\n",
      "Hands won by the dealer: 0\n"
     ]
    }
   ],
   "source": [
    "if final_value > 21:\n",
    "    dealer_wins.append(1)\n",
    "elif final_value_dealer >21:\n",
    "    player_wins.append(1)\n",
    "elif final_value > final_value_dealer:\n",
    "    players_wins.append(1)\n",
    "else:\n",
    "    dealer_wins.append(1)\n",
    "    \n",
    "print('Hands won by the player: ' + str(sum(player_wins)))\n",
    "print('Hands won by the dealer: ' + str(sum(dealer_wins)))"
   ]
  },
  {
   "cell_type": "code",
   "execution_count": null,
   "metadata": {},
   "outputs": [],
   "source": []
  }
 ],
 "metadata": {
  "kernelspec": {
   "display_name": "Python 3",
   "language": "python",
   "name": "python3"
  },
  "language_info": {
   "codemirror_mode": {
    "name": "ipython",
    "version": 3
   },
   "file_extension": ".py",
   "mimetype": "text/x-python",
   "name": "python",
   "nbconvert_exporter": "python",
   "pygments_lexer": "ipython3",
   "version": "3.8.3"
  }
 },
 "nbformat": 4,
 "nbformat_minor": 4
}
